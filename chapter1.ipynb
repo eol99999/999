{
 "cells": [
  {
   "cell_type": "code",
   "execution_count": 5,
   "metadata": {},
   "outputs": [],
   "source": [
    "#코드 입력창\n",
    "#코드 실행 + 뉴 코드 입력 셀 생성 => shift + enter"
   ]
  },
  {
   "cell_type": "markdown",
   "metadata": {},
   "source": [
    " #<마크다운 셀>\n",
    "# 제목1\n",
    "## 제목 2 \n",
    "### 제목 3\n",
    "\n",
    "# <넘버링>\n",
    "1. 첫 번째\n",
    "2. 두 번째\n",
    "3. 세번째\n",
    "\n",
    "# <글머리 기호>\n",
    "+ 강웅천\n",
    "+ 김민교\n",
    "- 김나연\n",
    "- 박소현\n",
    "* 아무개\n",
    "* 뭐누구\n",
    "* 아무나"
   ]
  },
  {
   "cell_type": "code",
   "execution_count": 6,
   "metadata": {},
   "outputs": [],
   "source": [
    "import pandas as pd"
   ]
  },
  {
   "cell_type": "code",
   "execution_count": 8,
   "metadata": {},
   "outputs": [
    {
     "name": "stdout",
     "output_type": "stream",
     "text": [
      "0    25\n",
      "1    34\n",
      "2    19\n",
      "3    45\n",
      "4    60\n",
      "dtype: int64\n",
      "0    spring\n",
      "1    summer\n",
      "2      fall\n",
      "3    winter\n",
      "dtype: object\n"
     ]
    },
    {
     "data": {
      "text/plain": [
       "'fall'"
      ]
     },
     "execution_count": 8,
     "metadata": {},
     "output_type": "execute_result"
    }
   ],
   "source": [
    "import pandas as pd\n",
    "\n",
    "# 직접 리스트 입력\n",
    "age = pd.Series([25, 34, 19, 45, 60])\n",
    "print(age)                 #age의 내용 출력\n",
    "type(age)           #age의 데이터형 확인\n",
    "\n",
    "#이미 생성된 리스트 객체를 입력\n",
    "data = ['spring', 'summer', 'fall', 'winter']\n",
    "season = pd.Series(data)\n",
    "print(season)\n",
    "\n",
    "season.iloc[2]          #인덱스 2의 값\n"
   ]
  }
 ],
 "metadata": {
  "kernelspec": {
   "display_name": "Python 3",
   "language": "python",
   "name": "python3"
  },
  "language_info": {
   "codemirror_mode": {
    "name": "ipython",
    "version": 3
   },
   "file_extension": ".py",
   "mimetype": "text/x-python",
   "name": "python",
   "nbconvert_exporter": "python",
   "pygments_lexer": "ipython3",
   "version": "3.12.6"
  }
 },
 "nbformat": 4,
 "nbformat_minor": 2
}
